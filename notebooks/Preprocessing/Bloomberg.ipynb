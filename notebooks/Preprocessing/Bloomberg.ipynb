{
 "cells": [
  {
   "metadata": {
    "ExecuteTime": {
     "end_time": "2025-04-02T22:23:09.156012Z",
     "start_time": "2025-04-02T22:23:09.095183Z"
    }
   },
   "cell_type": "code",
   "source": [
    "from sqlalchemy import create_engine, text\n",
    "\n",
    "# DB 연결 설정\n",
    "user = \"postgres\"\n",
    "password = \"0000\"\n",
    "host = \"localhost\"\n",
    "port = \"5432\"\n",
    "db_name = \"rrt\"\n",
    "\n",
    "engine = create_engine(f\"postgresql+psycopg2://{user}:{password}@{host}:{port}/{db_name}\")\n",
    "\n",
    "with engine.connect() as conn:\n",
    "    result = conn.execute(text(\"SELECT current_database();\"))  # ← 여기!\n",
    "    print(\"Connected to:\", result.scalar())"
   ],
   "id": "7a82d74ba19eea64",
   "execution_count": 70,
   "outputs": []
  },
  {
   "cell_type": "code",
   "id": "initial_id",
   "metadata": {
    "collapsed": true,
    "ExecuteTime": {
     "end_time": "2025-04-02T21:56:41.791447Z",
     "start_time": "2025-04-02T21:56:41.771368Z"
    }
   },
   "source": [
    "from pathlib import Path\n",
    "from datetime import datetime, timedelta\n",
    "import pandas as pd\n",
    "import re\n",
    "\n",
    "dir_path = Path(\"../data/sample/Bloomberg/SPX_12232024/\")\n",
    "files = [f for f in dir_path.glob(\"*.xlsx\") if not f.name.startswith(\"~$\") and not f.name.startswith(\"ATMs\")]\n",
    "files.sort()\n",
    "\n",
    "for f in files:\n",
    "    print(f.name)"
   ],
   "execution_count": 44,
   "outputs": []
  },
  {
   "metadata": {
    "ExecuteTime": {
     "end_time": "2025-04-02T21:33:24.947099Z",
     "start_time": "2025-04-02T21:33:21.203463Z"
    }
   },
   "cell_type": "code",
   "source": "",
   "id": "2a93b910bfae4a74",
   "execution_count": 5,
   "outputs": []
  },
  {
   "metadata": {
    "ExecuteTime": {
     "end_time": "2025-04-02T21:33:25.984790Z",
     "start_time": "2025-04-02T21:33:25.973723Z"
    }
   },
   "cell_type": "code",
   "source": "valid_call",
   "id": "9cffbc321e45a2cd",
   "execution_count": 6,
   "outputs": []
  },
  {
   "metadata": {},
   "cell_type": "code",
   "execution_count": null,
   "source": [
    "S0 = 5975\n",
    "r = "
   ],
   "id": "9a130b2ee3223cf",
   "outputs": []
  },
  {
   "metadata": {
    "ExecuteTime": {
     "end_time": "2025-04-02T21:37:06.348170Z",
     "start_time": "2025-04-02T21:37:06.344194Z"
    }
   },
   "cell_type": "code",
   "source": "dir_path.",
   "id": "64acf50cbe08d2b",
   "execution_count": 11,
   "outputs": []
  },
  {
   "metadata": {},
   "cell_type": "code",
   "execution_count": null,
   "source": "",
   "id": "ecbbfb2d102d5680",
   "outputs": []
  },
  {
   "metadata": {
    "ExecuteTime": {
     "end_time": "2025-04-02T22:17:22.172385Z",
     "start_time": "2025-04-02T22:17:22.071014Z"
    }
   },
   "cell_type": "code",
   "source": [
    "atm = pd.read_excel(\"../data/sample/Bloomberg/SPX_12232024/ATMs.xlsx\", engine=\"openpyxl\", header=None).dropna()\n",
    "atm.columns = atm.iloc[0, :]\n",
    "atm = atm.drop(atm.index[0])\n",
    "call_atm = atm.iloc[:, :15]\n",
    "put_atm = atm.iloc[:, 15:]\n",
    "cols = [\n",
    "    'strike',\n",
    "    'ticker',\n",
    "    'bid',\n",
    "    'ask',\n",
    "    'last_p',\n",
    "    'iv',\n",
    "    'vol',\n",
    "    'div',\n",
    "    'ndvs',\n",
    "    'tau',\n",
    "    'csize',\n",
    "    'r',\n",
    "    'hv30',\n",
    "    'hv60',\n",
    "    'hv90'\n",
    "]\n",
    "call_atm.columns = cols\n",
    "call_atm.loc[:, ['refdate']] = datetime(2024, 12, 23)\n",
    "call_atm.loc[:, ['cp_flag']] = 'C'\n",
    "put_atm.columns = cols\n",
    "put_atm.loc[:, ['refdate']] = datetime(2024, 12, 23)\n",
    "put_atm.loc[:, ['cp_flag']] = 'P'\n",
    "\n",
    "atm_all = pd.concat([call_atm, put_atm], ignore_index=True, axis=0)\n",
    "print(atm_all.shape)"
   ],
   "id": "75b4a783e1f99812",
   "execution_count": 63,
   "outputs": []
  },
  {
   "metadata": {
    "ExecuteTime": {
     "end_time": "2025-04-02T22:24:54.481565Z",
     "start_time": "2025-04-02T22:24:54.388090Z"
    }
   },
   "cell_type": "code",
   "source": [
    "with engine.connect() as conn:\n",
    "    conn.execute(text(\"DROP TABLE IF EXISTS atms;\"))\n",
    "\n",
    "with engine.connect() as conn:\n",
    "    conn.execute(text(\"\"\"\n",
    "        CREATE TABLE atms (\n",
    "            strike     NUMERIC,\n",
    "            ticker     TEXT NOT NULL,\n",
    "            bid        NUMERIC,\n",
    "            ask        NUMERIC,\n",
    "            last_p     NUMERIC,\n",
    "            iv         NUMERIC,\n",
    "            vol        NUMERIC,\n",
    "            div        NUMERIC,\n",
    "            ndvs       NUMERIC,\n",
    "            tau        NUMERIC,\n",
    "            csize      NUMERIC,\n",
    "            r          NUMERIC,\n",
    "            hv30       NUMERIC,\n",
    "            hv60       NUMERIC,\n",
    "            hv90       NUMERIC,\n",
    "            refdate    DATE NOT NULL,\n",
    "            cp_flag    CHAR(1),\n",
    "            PRIMARY KEY (refdate, ticker)\n",
    "        )\n",
    "    \"\"\"))\n",
    "\n",
    "with engine.connect() as conn:\n",
    "    result = conn.execute(text(\"\"\"\n",
    "        SELECT\n",
    "            tc.constraint_name,\n",
    "            tc.table_name,\n",
    "            kcu.column_name\n",
    "        FROM \n",
    "            information_schema.table_constraints AS tc\n",
    "        JOIN \n",
    "            information_schema.key_column_usage AS kcu\n",
    "            ON tc.constraint_name = kcu.constraint_name\n",
    "        WHERE \n",
    "            tc.table_name = 'atms'\n",
    "            AND tc.constraint_type = 'PRIMARY KEY';\n",
    "    \"\"\"))\n",
    "    pk_info = result.fetchall()\n",
    "    print(\"Primary Key columns in 'atm':\", [row[2] for row in pk_info])\n",
    "    \n",
    "atm_all.to_sql(\"atm\", con=engine, if_exists='append', index=False, method='multi')\n",
    "print(\"successfully inserted atm table\")\n",
    "df = pd.read_sql(\"SELECT * FROM atm\", con=engine)\n",
    "display(df)"
   ],
   "id": "d24897244d70e7bc",
   "execution_count": 75,
   "outputs": []
  },
  {
   "metadata": {
    "ExecuteTime": {
     "end_time": "2025-04-02T22:14:12.804219Z",
     "start_time": "2025-04-02T22:14:12.769571Z"
    }
   },
   "cell_type": "code",
   "source": "df[df.duplicated()]",
   "id": "5a4c3a62217263e1",
   "execution_count": 62,
   "outputs": []
  },
  {
   "metadata": {
    "ExecuteTime": {
     "end_time": "2025-04-02T22:44:50.102943Z",
     "start_time": "2025-04-02T22:44:44.276262Z"
    }
   },
   "cell_type": "code",
   "source": [
    "import pandas as pd\n",
    "import re\n",
    "from pathlib import Path\n",
    "\n",
    "# 옵션 컬럼 정의\n",
    "cols = [\n",
    "    'ticker',  # Option ticker (e.g., \"SPXW 12/31/24 C1200\")\n",
    "    'strike',  # Strike price of the option\n",
    "    'bid',     # Best bid price (buying offer)\n",
    "    'ask',     # Best ask price (selling offer)\n",
    "    'last',    # Last traded price\n",
    "    'iv',      # Implied volatility (IV)\n",
    "    'volume',  # Trading volume\n",
    "    'open',    # Open interest\n",
    "    'delta',   # Delta\n",
    "    'gamma',   # Gamma\n",
    "    'theta',   # Theta\n",
    "    'vega',    # Vega\n",
    "    'rho',     # Rho\n",
    "    'tau',     # Time to expiration\n",
    "    'option_type',    # Option type: \"Euro\" or \"American\"\n",
    "    'thiv',    # Theoretical IV\n",
    "    'thpr'     # Theoretical price\n",
    "]\n",
    "\n",
    "underlying_tickers = ['SPX', 'SPXW']\n",
    "ticker_pattern = r'^(' + '|'.join(underlying_tickers) + r')\\d{1,2}/\\d{1,2}/\\d{2,4}[CP]\\d+(\\.\\d+)?$'\n",
    "\n",
    "for f in files:\n",
    "    \n",
    "    df = pd.read_excel(f, engine=\"openpyxl\", header=None)\n",
    "    half = df.shape[1] // 2\n",
    "    \n",
    "    df_call = df.iloc[:, :half].copy()\n",
    "    df_call.columns = cols\n",
    "    df_call[\"type\"] = \"C\"\n",
    "    mask_call = (\n",
    "        df_call[\"ticker\"]\n",
    "        .astype(str)\n",
    "        .apply(lambda x: re.sub(r\"\\s+\", \"\", x))\n",
    "        .str.match(ticker_pattern)\n",
    "    )\n",
    "    # a = df_call[\"ticker\"].astype(str).apply(lambda x: re.sub(r\"\\s+\", \"\", x))\n",
    "    # b = df_call[\"ticker\"].astype(str).apply(lambda x: re.sub(r\"\\s+\", \"\", x)).str.match(ticker_pattern)\n",
    "    # display(pd.concat([a, mask_call], axis=1))\n",
    "    invalid_call = df_call[~mask_call]\n",
    "    valid_call = df_call[mask_call]\n",
    "\n",
    "    df_put = df.iloc[:, half:].copy()\n",
    "    df_put.columns = cols\n",
    "    df_put[\"type\"] = \"P\"\n",
    "    mask_put = (\n",
    "        df_put[\"ticker\"]\n",
    "        .astype(str)\n",
    "        .apply(lambda x: re.sub(r\"\\s+\", \"\", x))\n",
    "        .str.match(ticker_pattern)\n",
    "    )\n",
    "    invalid_put = df_put[~mask_put]\n",
    "    valid_put = df_put[mask_put]"
   ],
   "id": "b04505e7d873b873",
   "execution_count": 76,
   "outputs": []
  },
  {
   "metadata": {
    "ExecuteTime": {
     "end_time": "2025-04-02T22:44:50.114485Z",
     "start_time": "2025-04-02T22:44:50.105319Z"
    }
   },
   "cell_type": "code",
   "source": "valid_call",
   "id": "fddcebb812ce1dcd",
   "execution_count": 77,
   "outputs": []
  },
  {
   "metadata": {},
   "cell_type": "code",
   "execution_count": null,
   "source": "",
   "id": "ee2d5f40997fa05b",
   "outputs": []
  },
  {
   "metadata": {
    "ExecuteTime": {
     "end_time": "2025-04-02T21:40:51.867880Z",
     "start_time": "2025-04-02T21:40:51.790597Z"
    }
   },
   "cell_type": "code",
   "source": "pd.read_excel('../data/sample/raw_data/SPX_12232024/20251017.xlsx')",
   "id": "2068b9797aa3004a",
   "execution_count": 13,
   "outputs": []
  },
  {
   "metadata": {
    "ExecuteTime": {
     "end_time": "2025-04-01T17:17:16.336519Z",
     "start_time": "2025-04-01T17:17:16.326702Z"
    }
   },
   "cell_type": "code",
   "source": [
    "from pathlib import Path\n",
    "\n",
    "print(\"현재 작업 디렉토리:\", Path.cwd())"
   ],
   "id": "90aec20d32ae7524",
   "execution_count": 16,
   "outputs": []
  },
  {
   "metadata": {
    "ExecuteTime": {
     "end_time": "2025-04-01T17:27:42.342315Z",
     "start_time": "2025-04-01T17:27:42.101911Z"
    }
   },
   "cell_type": "code",
   "source": [
    "import pandas as pd\n",
    "pd.read_excel(\"../data/sample/raw_data/SPX_12232024/\" + \"20250117.xlsx\", engine='openpyxl')"
   ],
   "id": "43d7f745b7890ad9",
   "execution_count": 41,
   "outputs": []
  },
  {
   "metadata": {},
   "cell_type": "code",
   "execution_count": null,
   "source": "",
   "id": "2498b09288a3e346",
   "outputs": []
  },
  {
   "metadata": {
    "ExecuteTime": {
     "end_time": "2025-04-01T17:15:01.205084Z",
     "start_time": "2025-04-01T17:14:58.396408Z"
    }
   },
   "cell_type": "code",
   "source": "!pip install openpyxl",
   "id": "7a1289ade0f963d1",
   "execution_count": 12,
   "outputs": []
  },
  {
   "metadata": {},
   "cell_type": "code",
   "execution_count": null,
   "source": "",
   "id": "230cc20db004ccb7",
   "outputs": []
  }
 ],
 "metadata": {
  "kernelspec": {
   "display_name": "Python 3",
   "language": "python",
   "name": "python3"
  },
  "language_info": {
   "codemirror_mode": {
    "name": "ipython",
    "version": 2
   },
   "file_extension": ".py",
   "mimetype": "text/x-python",
   "name": "python",
   "nbconvert_exporter": "python",
   "pygments_lexer": "ipython2",
   "version": "2.7.6"
  }
 },
 "nbformat": 4,
 "nbformat_minor": 5
}
