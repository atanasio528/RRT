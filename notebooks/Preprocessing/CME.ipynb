{
 "cells": [
  {
   "metadata": {
    "ExecuteTime": {
     "end_time": "2025-04-02T21:30:14.250091Z",
     "start_time": "2025-04-02T21:30:14.142275Z"
    }
   },
   "cell_type": "code",
   "source": [
    "from pathlib import Path\n",
    "import pandas as pd\n",
    "import re\n",
    "from datetime import datetime\n",
    "\n",
    "basic_info = {}\n",
    "\n",
    "with open('../data/sample/CME/SPX_040125/May2025.csv', 'r') as file:\n",
    "    file.readline()\n",
    "    line2 = file.readline().strip()\n",
    "    line3 = file.readline().strip()\n",
    "    \n",
    "pattern2 = r'(.*?),\\s*Last:\\s*(.*?),\\s*Change:\\s*(-?\\d+\\.?\\d*)'\n",
    "pattern3 = r'\"Date:(.*?)\",Bid:(.*?),Ask:(.*?),Size:(.*?),Volume:(.*?)'\n",
    "\n",
    "matches2 = re.match(pattern2, line2)\n",
    "matches3 = re.match(pattern3, line3)\n",
    "basic_info['underlying'] = matches2.group(1).strip()\n",
    "basic_info['underlying_last'] = float(matches2.group(2).strip())\n",
    "basic_info['underlying_change'] = float(matches2.group(3).strip())\n",
    "basic_info['Date'] = datetime.strptime(matches3.group(1).strip(), '%B %d, %Y at %I:%M %p EDT')\n",
    "basic_info['Bid'] = float(matches3.group(2).strip())\n",
    "basic_info['Ask'] = float(matches3.group(3).strip())\n",
    "basic_info['Size'] = matches3.group(4).strip()\n",
    "basic_info['Volume'] = 0 if matches3.group(5).strip() == '' else int(matches3.group(5).strip())\n",
    "\n",
    "path = \"../data/sample/CME/SPX_040125/Apr2025.csv\"\n",
    "df = pd.read_csv(path, skiprows=3)\n",
    "T = df.iloc[:, 0]\n",
    "K = df.iloc[:, 11]\n",
    "cols = ['ticker', 'last', 'net', 'bid', 'ask', 'volume', 'IV', 'Delta', 'Gamma', 'open']\n",
    "call = df.iloc[:, 1:11]\n",
    "call.columns = cols\n",
    "call['refdate'] = basic_info['Date']\n",
    "call['S'] = basic_info['underlying_last']\n",
    "call['T'] = T\n",
    "call['K'] = K\n",
    "put = df.iloc[:, 12:]\n",
    "put.columns = cols\n",
    "display(call)\n",
    "display(put)"
   ],
   "id": "2b25249d8b5321de",
   "execution_count": 5,
   "outputs": []
  },
  {
   "metadata": {
    "ExecuteTime": {
     "end_time": "2025-04-02T21:27:37.759713Z",
     "start_time": "2025-04-02T21:27:37.751174Z"
    }
   },
   "cell_type": "code",
   "source": "line",
   "id": "5b19f10e98b2bec1",
   "execution_count": 2,
   "outputs": []
  },
  {
   "metadata": {
    "ExecuteTime": {
     "end_time": "2025-04-01T19:23:56.984289Z",
     "start_time": "2025-04-01T19:23:56.975620Z"
    }
   },
   "cell_type": "code",
   "source": [
    "\n",
    "basic_info\n",
    "\n",
    "\n",
    "# data_dict = {\n",
    "#         'Date': matches.group(1).split(\": \", 1)[1],\n",
    "#         'Bid': matches.group(2).split(\": \", 1)[1],\n",
    "#         'Ask': matches.group(3).split(\": \", 1)[1],\n",
    "#         'Size': matches.group(4).split(\": \", 1)[1],\n",
    "#         'Volume': matches.group(5).split(\": \", 1)[1]\n",
    "#     }"
   ],
   "id": "a00386333940452d",
   "execution_count": 56,
   "outputs": []
  },
  {
   "metadata": {
    "ExecuteTime": {
     "end_time": "2025-04-01T19:23:15.791857Z",
     "start_time": "2025-04-01T19:23:15.770115Z"
    }
   },
   "cell_type": "code",
   "source": "float('')",
   "id": "385d9b8dadf7c91",
   "execution_count": 54,
   "outputs": []
  },
  {
   "metadata": {
    "ExecuteTime": {
     "end_time": "2025-04-01T19:21:55.666645Z",
     "start_time": "2025-04-01T19:21:55.656513Z"
    }
   },
   "cell_type": "code",
   "source": [
    "import re\n",
    "from datetime import datetime\n",
    "\n",
    "# 주어진 문자열 예시\n",
    "text = \"SP 500 INDEX,Last: 5593.04,Change: 18.81,Date: April 1, 2025 at 2:37 PM EDT,Bid: 5591.5298,Ask: 5594.7798,Size: 1*1,Volume: 0\"\n",
    "\n",
    "# 정규 표현식 패턴\n",
    "pattern2 = r'(.*?),\\s*Last:\\s*(.*?),\\s*Change:\\s*(-?\\d+\\.?\\d*),\\s*Date:\\s*(.*?),\\s*Bid:\\s*(.*?),\\s*Ask:\\s*(.*?),\\s*Size:\\s*(.*?),\\s*Volume:\\s*(.*)'\n",
    "\n",
    "# 정규 표현식으로 매칭\n",
    "match = re.match(pattern2, text)\n",
    "\n",
    "if match:\n",
    "    result = {\n",
    "        'underlying': match.group(1),\n",
    "        'underlying_last': match.group(2),\n",
    "        'underlying_change': match.group(3),  # Change 값을 제대로 추출\n",
    "        'Date': datetime.strptime(match.group(4), '%B %d, %Y at %I:%M %p EDT'),\n",
    "        'Bid': match.group(5),\n",
    "        'Ask': match.group(6),\n",
    "        'Size': match.group(7),\n",
    "        'Volume': match.group(8)\n",
    "    }\n",
    "    print(result)\n",
    "else:\n",
    "    print(\"정규 표현식 매칭 실패\")\n"
   ],
   "id": "47e36dc16f682afc",
   "execution_count": 49,
   "outputs": []
  },
  {
   "metadata": {},
   "cell_type": "code",
   "execution_count": null,
   "source": "",
   "id": "2ba79e61365f41b3",
   "outputs": []
  }
 ],
 "metadata": {
  "kernelspec": {
   "name": "python3",
   "language": "python",
   "display_name": "Python 3 (ipykernel)"
  }
 },
 "nbformat": 4,
 "nbformat_minor": 5
}
